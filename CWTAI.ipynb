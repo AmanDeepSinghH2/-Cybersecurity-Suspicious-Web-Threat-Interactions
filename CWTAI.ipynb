{
 "cells": [
  {
   "cell_type": "code",
   "execution_count": 3,
   "id": "8a208295",
   "metadata": {},
   "outputs": [],
   "source": [
    "import numpy as np\n",
    "import pandas as pd\n",
    "import matplotlib.pyplot as plt \n",
    "import seaborn as sns"
   ]
  },
  {
   "cell_type": "code",
   "execution_count": 5,
   "id": "b8c9709f",
   "metadata": {},
   "outputs": [
    {
     "data": {
      "application/vnd.microsoft.datawrangler.viewer.v0+json": {
       "columns": [
        {
         "name": "index",
         "rawType": "int64",
         "type": "integer"
        },
        {
         "name": "bytes_in",
         "rawType": "int64",
         "type": "integer"
        },
        {
         "name": "bytes_out",
         "rawType": "int64",
         "type": "integer"
        },
        {
         "name": "creation_time",
         "rawType": "object",
         "type": "string"
        },
        {
         "name": "end_time",
         "rawType": "object",
         "type": "string"
        },
        {
         "name": "src_ip",
         "rawType": "object",
         "type": "string"
        },
        {
         "name": "src_ip_country_code",
         "rawType": "object",
         "type": "string"
        },
        {
         "name": "protocol",
         "rawType": "object",
         "type": "string"
        },
        {
         "name": "response.code",
         "rawType": "int64",
         "type": "integer"
        },
        {
         "name": "dst_port",
         "rawType": "int64",
         "type": "integer"
        },
        {
         "name": "dst_ip",
         "rawType": "object",
         "type": "string"
        },
        {
         "name": "rule_names",
         "rawType": "object",
         "type": "string"
        },
        {
         "name": "observation_name",
         "rawType": "object",
         "type": "string"
        },
        {
         "name": "source.meta",
         "rawType": "object",
         "type": "string"
        },
        {
         "name": "source.name",
         "rawType": "object",
         "type": "string"
        },
        {
         "name": "time",
         "rawType": "object",
         "type": "string"
        },
        {
         "name": "detection_types",
         "rawType": "object",
         "type": "string"
        }
       ],
       "ref": "acf46a28-6de6-4a2c-8f54-db8ee28ac36f",
       "rows": [
        [
         "0",
         "5602",
         "12990",
         "2024-04-25T23:00:00Z",
         "2024-04-25T23:10:00Z",
         "147.161.161.82",
         "AE",
         "HTTPS",
         "200",
         "443",
         "10.138.69.97",
         "Suspicious Web Traffic",
         "Adversary Infrastructure Interaction",
         "AWS_VPC_Flow",
         "prod_webserver",
         "2024-04-25T23:00:00Z",
         "waf_rule"
        ],
        [
         "1",
         "30912",
         "18186",
         "2024-04-25T23:00:00Z",
         "2024-04-25T23:10:00Z",
         "165.225.33.6",
         "US",
         "HTTPS",
         "200",
         "443",
         "10.138.69.97",
         "Suspicious Web Traffic",
         "Adversary Infrastructure Interaction",
         "AWS_VPC_Flow",
         "prod_webserver",
         "2024-04-25T23:00:00Z",
         "waf_rule"
        ],
        [
         "2",
         "28506",
         "13468",
         "2024-04-25T23:00:00Z",
         "2024-04-25T23:10:00Z",
         "165.225.212.255",
         "CA",
         "HTTPS",
         "200",
         "443",
         "10.138.69.97",
         "Suspicious Web Traffic",
         "Adversary Infrastructure Interaction",
         "AWS_VPC_Flow",
         "prod_webserver",
         "2024-04-25T23:00:00Z",
         "waf_rule"
        ],
        [
         "3",
         "30546",
         "14278",
         "2024-04-25T23:00:00Z",
         "2024-04-25T23:10:00Z",
         "136.226.64.114",
         "US",
         "HTTPS",
         "200",
         "443",
         "10.138.69.97",
         "Suspicious Web Traffic",
         "Adversary Infrastructure Interaction",
         "AWS_VPC_Flow",
         "prod_webserver",
         "2024-04-25T23:00:00Z",
         "waf_rule"
        ],
        [
         "4",
         "6526",
         "13892",
         "2024-04-25T23:00:00Z",
         "2024-04-25T23:10:00Z",
         "165.225.240.79",
         "NL",
         "HTTPS",
         "200",
         "443",
         "10.138.69.97",
         "Suspicious Web Traffic",
         "Adversary Infrastructure Interaction",
         "AWS_VPC_Flow",
         "prod_webserver",
         "2024-04-25T23:00:00Z",
         "waf_rule"
        ]
       ],
       "shape": {
        "columns": 16,
        "rows": 5
       }
      },
      "text/html": [
       "<div>\n",
       "<style scoped>\n",
       "    .dataframe tbody tr th:only-of-type {\n",
       "        vertical-align: middle;\n",
       "    }\n",
       "\n",
       "    .dataframe tbody tr th {\n",
       "        vertical-align: top;\n",
       "    }\n",
       "\n",
       "    .dataframe thead th {\n",
       "        text-align: right;\n",
       "    }\n",
       "</style>\n",
       "<table border=\"1\" class=\"dataframe\">\n",
       "  <thead>\n",
       "    <tr style=\"text-align: right;\">\n",
       "      <th></th>\n",
       "      <th>bytes_in</th>\n",
       "      <th>bytes_out</th>\n",
       "      <th>creation_time</th>\n",
       "      <th>end_time</th>\n",
       "      <th>src_ip</th>\n",
       "      <th>src_ip_country_code</th>\n",
       "      <th>protocol</th>\n",
       "      <th>response.code</th>\n",
       "      <th>dst_port</th>\n",
       "      <th>dst_ip</th>\n",
       "      <th>rule_names</th>\n",
       "      <th>observation_name</th>\n",
       "      <th>source.meta</th>\n",
       "      <th>source.name</th>\n",
       "      <th>time</th>\n",
       "      <th>detection_types</th>\n",
       "    </tr>\n",
       "  </thead>\n",
       "  <tbody>\n",
       "    <tr>\n",
       "      <th>0</th>\n",
       "      <td>5602</td>\n",
       "      <td>12990</td>\n",
       "      <td>2024-04-25T23:00:00Z</td>\n",
       "      <td>2024-04-25T23:10:00Z</td>\n",
       "      <td>147.161.161.82</td>\n",
       "      <td>AE</td>\n",
       "      <td>HTTPS</td>\n",
       "      <td>200</td>\n",
       "      <td>443</td>\n",
       "      <td>10.138.69.97</td>\n",
       "      <td>Suspicious Web Traffic</td>\n",
       "      <td>Adversary Infrastructure Interaction</td>\n",
       "      <td>AWS_VPC_Flow</td>\n",
       "      <td>prod_webserver</td>\n",
       "      <td>2024-04-25T23:00:00Z</td>\n",
       "      <td>waf_rule</td>\n",
       "    </tr>\n",
       "    <tr>\n",
       "      <th>1</th>\n",
       "      <td>30912</td>\n",
       "      <td>18186</td>\n",
       "      <td>2024-04-25T23:00:00Z</td>\n",
       "      <td>2024-04-25T23:10:00Z</td>\n",
       "      <td>165.225.33.6</td>\n",
       "      <td>US</td>\n",
       "      <td>HTTPS</td>\n",
       "      <td>200</td>\n",
       "      <td>443</td>\n",
       "      <td>10.138.69.97</td>\n",
       "      <td>Suspicious Web Traffic</td>\n",
       "      <td>Adversary Infrastructure Interaction</td>\n",
       "      <td>AWS_VPC_Flow</td>\n",
       "      <td>prod_webserver</td>\n",
       "      <td>2024-04-25T23:00:00Z</td>\n",
       "      <td>waf_rule</td>\n",
       "    </tr>\n",
       "    <tr>\n",
       "      <th>2</th>\n",
       "      <td>28506</td>\n",
       "      <td>13468</td>\n",
       "      <td>2024-04-25T23:00:00Z</td>\n",
       "      <td>2024-04-25T23:10:00Z</td>\n",
       "      <td>165.225.212.255</td>\n",
       "      <td>CA</td>\n",
       "      <td>HTTPS</td>\n",
       "      <td>200</td>\n",
       "      <td>443</td>\n",
       "      <td>10.138.69.97</td>\n",
       "      <td>Suspicious Web Traffic</td>\n",
       "      <td>Adversary Infrastructure Interaction</td>\n",
       "      <td>AWS_VPC_Flow</td>\n",
       "      <td>prod_webserver</td>\n",
       "      <td>2024-04-25T23:00:00Z</td>\n",
       "      <td>waf_rule</td>\n",
       "    </tr>\n",
       "    <tr>\n",
       "      <th>3</th>\n",
       "      <td>30546</td>\n",
       "      <td>14278</td>\n",
       "      <td>2024-04-25T23:00:00Z</td>\n",
       "      <td>2024-04-25T23:10:00Z</td>\n",
       "      <td>136.226.64.114</td>\n",
       "      <td>US</td>\n",
       "      <td>HTTPS</td>\n",
       "      <td>200</td>\n",
       "      <td>443</td>\n",
       "      <td>10.138.69.97</td>\n",
       "      <td>Suspicious Web Traffic</td>\n",
       "      <td>Adversary Infrastructure Interaction</td>\n",
       "      <td>AWS_VPC_Flow</td>\n",
       "      <td>prod_webserver</td>\n",
       "      <td>2024-04-25T23:00:00Z</td>\n",
       "      <td>waf_rule</td>\n",
       "    </tr>\n",
       "    <tr>\n",
       "      <th>4</th>\n",
       "      <td>6526</td>\n",
       "      <td>13892</td>\n",
       "      <td>2024-04-25T23:00:00Z</td>\n",
       "      <td>2024-04-25T23:10:00Z</td>\n",
       "      <td>165.225.240.79</td>\n",
       "      <td>NL</td>\n",
       "      <td>HTTPS</td>\n",
       "      <td>200</td>\n",
       "      <td>443</td>\n",
       "      <td>10.138.69.97</td>\n",
       "      <td>Suspicious Web Traffic</td>\n",
       "      <td>Adversary Infrastructure Interaction</td>\n",
       "      <td>AWS_VPC_Flow</td>\n",
       "      <td>prod_webserver</td>\n",
       "      <td>2024-04-25T23:00:00Z</td>\n",
       "      <td>waf_rule</td>\n",
       "    </tr>\n",
       "  </tbody>\n",
       "</table>\n",
       "</div>"
      ],
      "text/plain": [
       "   bytes_in  bytes_out         creation_time              end_time  \\\n",
       "0      5602      12990  2024-04-25T23:00:00Z  2024-04-25T23:10:00Z   \n",
       "1     30912      18186  2024-04-25T23:00:00Z  2024-04-25T23:10:00Z   \n",
       "2     28506      13468  2024-04-25T23:00:00Z  2024-04-25T23:10:00Z   \n",
       "3     30546      14278  2024-04-25T23:00:00Z  2024-04-25T23:10:00Z   \n",
       "4      6526      13892  2024-04-25T23:00:00Z  2024-04-25T23:10:00Z   \n",
       "\n",
       "            src_ip src_ip_country_code protocol  response.code  dst_port  \\\n",
       "0   147.161.161.82                  AE    HTTPS            200       443   \n",
       "1     165.225.33.6                  US    HTTPS            200       443   \n",
       "2  165.225.212.255                  CA    HTTPS            200       443   \n",
       "3   136.226.64.114                  US    HTTPS            200       443   \n",
       "4   165.225.240.79                  NL    HTTPS            200       443   \n",
       "\n",
       "         dst_ip              rule_names                      observation_name  \\\n",
       "0  10.138.69.97  Suspicious Web Traffic  Adversary Infrastructure Interaction   \n",
       "1  10.138.69.97  Suspicious Web Traffic  Adversary Infrastructure Interaction   \n",
       "2  10.138.69.97  Suspicious Web Traffic  Adversary Infrastructure Interaction   \n",
       "3  10.138.69.97  Suspicious Web Traffic  Adversary Infrastructure Interaction   \n",
       "4  10.138.69.97  Suspicious Web Traffic  Adversary Infrastructure Interaction   \n",
       "\n",
       "    source.meta     source.name                  time detection_types  \n",
       "0  AWS_VPC_Flow  prod_webserver  2024-04-25T23:00:00Z        waf_rule  \n",
       "1  AWS_VPC_Flow  prod_webserver  2024-04-25T23:00:00Z        waf_rule  \n",
       "2  AWS_VPC_Flow  prod_webserver  2024-04-25T23:00:00Z        waf_rule  \n",
       "3  AWS_VPC_Flow  prod_webserver  2024-04-25T23:00:00Z        waf_rule  \n",
       "4  AWS_VPC_Flow  prod_webserver  2024-04-25T23:00:00Z        waf_rule  "
      ]
     },
     "execution_count": 5,
     "metadata": {},
     "output_type": "execute_result"
    }
   ],
   "source": [
    "df=pd.read_csv('CloudWatch_Traffic_Web_Attack.csv')\n",
    "df.head()"
   ]
  },
  {
   "cell_type": "code",
   "execution_count": 11,
   "id": "93e362b9",
   "metadata": {},
   "outputs": [
    {
     "data": {
      "application/vnd.microsoft.datawrangler.viewer.v0+json": {
       "columns": [
        {
         "name": "index",
         "rawType": "object",
         "type": "string"
        },
        {
         "name": "0",
         "rawType": "int64",
         "type": "integer"
        }
       ],
       "ref": "028bd680-6c5e-418e-9e13-976cf95c6afc",
       "rows": [
        [
         "bytes_in",
         "0"
        ],
        [
         "bytes_out",
         "0"
        ],
        [
         "creation_time",
         "0"
        ],
        [
         "end_time",
         "0"
        ],
        [
         "src_ip",
         "0"
        ],
        [
         "src_ip_country_code",
         "0"
        ],
        [
         "protocol",
         "0"
        ],
        [
         "response.code",
         "0"
        ],
        [
         "dst_port",
         "0"
        ],
        [
         "dst_ip",
         "0"
        ],
        [
         "rule_names",
         "0"
        ],
        [
         "observation_name",
         "0"
        ],
        [
         "source.meta",
         "0"
        ],
        [
         "source.name",
         "0"
        ],
        [
         "time",
         "0"
        ],
        [
         "detection_types",
         "0"
        ]
       ],
       "shape": {
        "columns": 1,
        "rows": 16
       }
      },
      "text/plain": [
       "bytes_in               0\n",
       "bytes_out              0\n",
       "creation_time          0\n",
       "end_time               0\n",
       "src_ip                 0\n",
       "src_ip_country_code    0\n",
       "protocol               0\n",
       "response.code          0\n",
       "dst_port               0\n",
       "dst_ip                 0\n",
       "rule_names             0\n",
       "observation_name       0\n",
       "source.meta            0\n",
       "source.name            0\n",
       "time                   0\n",
       "detection_types        0\n",
       "dtype: int64"
      ]
     },
     "execution_count": 11,
     "metadata": {},
     "output_type": "execute_result"
    }
   ],
   "source": [
    "df.isnull().sum()"
   ]
  },
  {
   "cell_type": "code",
   "execution_count": null,
   "id": "c20a44b4",
   "metadata": {},
   "outputs": [],
   "source": [
    "\n",
    "\n",
    "def clean_data(df):\n",
    "    # 1. Mean, Median, Mode\n",
    "    mean = df[['bytes_in', 'bytes_out']].mean()\n",
    "    median = df[['bytes_in', 'bytes_out']].median()\n",
    "    mode = df[['bytes_in', 'bytes_out']].mode().iloc[0]\n",
    "    summary_df = pd.DataFrame({'Answer': [mean, median, mode]}, index=['Mean', 'Median', 'Mode'])\n",
    "    # 2. Min, Max, Range\n",
    "    min_values = df[['bytes_in', 'bytes_out']].min()\n",
    "    max_values = df[['bytes_in', 'bytes_out']].max()\n",
    "    range_values = max_values - min_values\n",
    "    range_df = pd.DataFrame({'Answer': [min_values, max_values, range_values]}, index=['Min', 'Max', 'Range'])\n",
    "    # 3. Standard Deviation\n",
    "    std_dev = df[['bytes_in', 'bytes_out']].std()\n",
    "    std_dev_df = pd.DataFrame({'Answer': [std_dev]}, index=['Standard Deviation'])\n",
    "    # 4. Simple Visuals\n",
    "    # Histogram\n",
    "    df['bytes_in'].hist(bins=10)\n",
    "    plt.title('Histogram of Bytes In')\n",
    "    plt.xlabel('Bytes In')\n",
    "    plt.ylabel('Frequency')\n",
    "    plt.show()\n",
    "    # Bar Chart\n",
    "    df['src_ip_country_code'].value_counts().plot(kind='bar')\n",
    "    plt.title('Bar Chart of Country Codes')\n",
    "    plt.xlabel('Country Code')\n",
    "    plt.ylabel('Frequency')\n",
    "    plt.show()\n",
    "    # Pie Chart\n",
    "    df['protocol'].value_counts().plot(kind='pie', autopct='%1.1f%%')\n",
    "    plt.title('Pie Chart of Protocols')\n",
    "    plt.ylabel('')\n",
    "    plt.show()\n",
    "    # Boxplot\n",
    "    df[['bytes_in', 'bytes_out']].plot(kind='box')\n",
    "    plt.title('Boxplot of Bytes In and Out')\n",
    "    plt.show()\n",
    "    # Line Chart\n",
    "    df['creation_time'] = pd.to_datetime(df['creation_time'])\n",
    "    df.set_index('creation_time')['bytes_in'].plot(kind='line')\n",
    "    plt.title('Line Chart of Bytes In Over Time')\n",
    "    plt.xlabel('Time')\n",
    "    plt.ylabel('Bytes In')\n",
    "    plt.show()\n",
    "    # Scatter Plot\n",
    "    df.plot.scatter(x='bytes_in', y='bytes_out')\n",
    "    plt.title('Scatter Plot of Bytes In vs Bytes Out')\n",
    "    plt.xlabel('Bytes In')\n",
    "    plt.ylabel('Bytes Out')\n",
    "    plt.show()\n",
    "    return df\n",
    "\n",
    "# Loaded variable 'df' from URI: d:\\CODE\\GitHub\\-Cybersecurity-Suspicious-Web-Threat-Interactions\\CloudWatch_Traffic_Web_Attack.csv\n",
    "df = pd.read_csv(r'd:\\CODE\\GitHub\\-Cybersecurity-Suspicious-Web-Threat-Interactions\\CloudWatch_Traffic_Web_Attack.csv')\n",
    "\n",
    "df_clean = clean_data(df.copy())\n",
    "df_clean.head()"
   ]
  }
 ],
 "metadata": {
  "kernelspec": {
   "display_name": "Python 3",
   "language": "python",
   "name": "python3"
  },
  "language_info": {
   "codemirror_mode": {
    "name": "ipython",
    "version": 3
   },
   "file_extension": ".py",
   "mimetype": "text/x-python",
   "name": "python",
   "nbconvert_exporter": "python",
   "pygments_lexer": "ipython3",
   "version": "3.13.7"
  }
 },
 "nbformat": 4,
 "nbformat_minor": 5
}
