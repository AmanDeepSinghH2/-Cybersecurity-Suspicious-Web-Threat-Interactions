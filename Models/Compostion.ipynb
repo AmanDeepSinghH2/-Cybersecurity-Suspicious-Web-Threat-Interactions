{
 "cells": [
  {
   "cell_type": "code",
   "execution_count": 1,
   "id": "a8a32c18",
   "metadata": {},
   "outputs": [],
   "source": [
    "import numpy as np \n",
    "import pandas as pd\n",
    "from sklearn.model_selection import train_test_split\n",
    "from sklearn.preprocessing import StandardScaler, OneHotEncoder\n",
    "from sklearn.compose import ColumnTransformer\n",
    "from sklearn.pipeline import Pipeline\n",
    "from sklearn.linear_model import LogisticRegression\n",
    "from sklearn.ensemble import RandomForestClassifier, IsolationForest\n",
    "from sklearn.cluster import KMeans, AgglomerativeClustering\n",
    "from sklearn.metrics import accuracy_score, classification_report"
   ]
  },
  {
   "cell_type": "markdown",
   "id": "3e3dd231",
   "metadata": {},
   "source": [
    "# 1. Load datasets"
   ]
  },
  {
   "cell_type": "code",
   "execution_count": 2,
   "id": "692d55de",
   "metadata": {},
   "outputs": [],
   "source": [
    "\n",
    "cloud_df = pd.read_csv(\"CloudWatch_Traffic_Web_Attack.csv\")\n",
    "intrusion_df = pd.read_csv(\"cybersecurity_intrusion_data.csv\")\n",
    "global_df = pd.read_csv(\"Global_Cybersecurity_Threats_2015-2024.csv\")"
   ]
  },
  {
   "cell_type": "markdown",
   "id": "6543f779",
   "metadata": {},
   "source": [
    "\n",
    "# 2. Supervised dataset (intrusion)"
   ]
  },
  {
   "cell_type": "code",
   "execution_count": null,
   "id": "efae58c9",
   "metadata": {},
   "outputs": [],
   "source": [
    "x = intrusion_df.drop(columns=[\"attack_detected\",\"session_id\"])\n",
    "y = intrusion_df[\"attack_detected\"]"
   ]
  },
  {
   "cell_type": "markdown",
   "id": "227e962c",
   "metadata": {},
   "source": [
    "\n",
    "# Preprocessing"
   ]
  },
  {
   "cell_type": "code",
   "execution_count": 4,
   "id": "c4a1ddd1",
   "metadata": {},
   "outputs": [],
   "source": [
    "\n",
    "num_cols = [\"network_packet_size\",\"login_attempts\",\"session_duration\",\n",
    "            \"ip_reputation_score\",\"failed_logins\",\"unusual_time_access\"]\n",
    "cat_cols = [\"protocol_type\",\"encryption_used\",\"browser_type\"]\n",
    "\n",
    "preprocess = ColumnTransformer([\n",
    "    (\"num\", StandardScaler(), num_cols),\n",
    "    (\"cat\", OneHotEncoder(handle_unknown=\"ignore\"), cat_cols)\n",
    "])"
   ]
  },
  {
   "cell_type": "markdown",
   "id": "4a295293",
   "metadata": {},
   "source": [
    "\n",
    "# 3. Train/test split"
   ]
  },
  {
   "cell_type": "code",
   "execution_count": null,
   "id": "8a0a620e",
   "metadata": {},
   "outputs": [],
   "source": [
    "\n",
    "x_train, x_test, y_train, y_test = train_test_split(x, y, stratify=y, test_size=0.2, random_state=42)"
   ]
  },
  {
   "cell_type": "markdown",
   "id": "0cea5ccc",
   "metadata": {},
   "source": [
    "\n",
    "\n",
    "\n",
    "# 4. Logistic Regression pipeline"
   ]
  },
  {
   "cell_type": "code",
   "execution_count": null,
   "id": "1615a6e8",
   "metadata": {},
   "outputs": [
    {
     "name": "stdout",
     "output_type": "stream",
     "text": [
      "Logistic Regression Accuracy: 0.7285115303983228\n"
     ]
    }
   ],
   "source": [
    "\n",
    "logreg = Pipeline([\n",
    "    (\"prep\", preprocess),\n",
    "    (\"clf\", LogisticRegression(max_iter=200))\n",
    "])\n",
    "logreg.fit(x_train, y_train)\n",
    "y_pred = logreg.predict(x_test)\n",
    "print(\"Logistic Regression Accuracy:\", accuracy_score(y_test, y_pred))"
   ]
  },
  {
   "cell_type": "markdown",
   "id": "17561c57",
   "metadata": {},
   "source": [
    "\n",
    "\n",
    "# 5. Random Forest"
   ]
  },
  {
   "cell_type": "code",
   "execution_count": null,
   "id": "f99d9b37",
   "metadata": {},
   "outputs": [
    {
     "name": "stdout",
     "output_type": "stream",
     "text": [
      "Random Forest Report:\n",
      "               precision    recall  f1-score   support\n",
      "\n",
      "           0       0.83      0.99      0.90      1055\n",
      "           1       0.99      0.75      0.85       853\n",
      "\n",
      "    accuracy                           0.88      1908\n",
      "   macro avg       0.91      0.87      0.88      1908\n",
      "weighted avg       0.90      0.88      0.88      1908\n",
      "\n"
     ]
    }
   ],
   "source": [
    "\n",
    "rf = Pipeline([\n",
    "    (\"prep\", preprocess),\n",
    "    (\"clf\", RandomForestClassifier(n_estimators=200, random_state=42))\n",
    "])\n",
    "rf.fit(x_train, y_train)\n",
    "print(\"Random Forest Report:\\n\", classification_report(y_test, rf.predict(x_test)))"
   ]
  },
  {
   "cell_type": "markdown",
   "id": "5328619b",
   "metadata": {},
   "source": [
    "\n",
    "\n",
    "# 6. Isolation Forest on CloudWatch traffic"
   ]
  },
  {
   "cell_type": "code",
   "execution_count": 8,
   "id": "99a559ef",
   "metadata": {},
   "outputs": [],
   "source": [
    "\n",
    "iso = IsolationForest(n_estimators=100, contamination=0.05, random_state=42)\n",
    "iso.fit(cloud_df[[\"bytes_in\",\"bytes_out\"]])\n",
    "cloud_df[\"anomaly_score\"] = iso.decision_function(cloud_df[[\"bytes_in\",\"bytes_out\"]])\n",
    "cloud_df[\"anomaly_label\"] = iso.predict(cloud_df[[\"bytes_in\",\"bytes_out\"]])"
   ]
  },
  {
   "cell_type": "markdown",
   "id": "c8eba03c",
   "metadata": {},
   "source": [
    "# 7. K-Means clustering on global threats\n"
   ]
  },
  {
   "cell_type": "code",
   "execution_count": 9,
   "id": "f55c172e",
   "metadata": {},
   "outputs": [],
   "source": [
    "kmeans = KMeans(n_clusters=4, random_state=42)\n",
    "global_df[\"cluster\"] = kmeans.fit_predict(global_df[[\"Financial Loss (in Million $)\",\"Number of Affected Users\"]])"
   ]
  }
 ],
 "metadata": {
  "kernelspec": {
   "display_name": "Python 3",
   "language": "python",
   "name": "python3"
  },
  "language_info": {
   "codemirror_mode": {
    "name": "ipython",
    "version": 3
   },
   "file_extension": ".py",
   "mimetype": "text/x-python",
   "name": "python",
   "nbconvert_exporter": "python",
   "pygments_lexer": "ipython3",
   "version": "3.13.7"
  }
 },
 "nbformat": 4,
 "nbformat_minor": 5
}
