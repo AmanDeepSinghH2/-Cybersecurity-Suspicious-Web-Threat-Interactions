{
 "cells": [
  {
   "cell_type": "code",
   "execution_count": null,
   "id": "f23b9e01",
   "metadata": {},
   "outputs": [],
   "source": [
    "import numpy as np\n",
    "import pandas as pd\n",
    "import matplotlib.pyplot as plt\n",
    "import seaborn as sns"
   ]
  },
  {
   "cell_type": "code",
   "execution_count": null,
   "id": "4ad332a7",
   "metadata": {},
   "outputs": [],
   "source": [
    "cloud_df=pd.read_csv(\"D:\\CODE\\GitHub\\-Cybersecurity-Suspicious-Web-Threat-Interactions\\Sheets\\CloudWatch_Traffic_Web_Attack.csv\")\n"
   ]
  }
 ],
 "metadata": {
  "language_info": {
   "name": "python"
  }
 },
 "nbformat": 4,
 "nbformat_minor": 5
}
